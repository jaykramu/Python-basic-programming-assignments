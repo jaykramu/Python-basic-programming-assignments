{
 "cells": [
  {
   "cell_type": "code",
   "execution_count": 1,
   "metadata": {},
   "outputs": [
    {
     "name": "stdout",
     "output_type": "stream",
     "text": [
      "please enter a number : 5\n",
      "factorial of 5 is 120\n"
     ]
    }
   ],
   "source": [
    "# Answer 1)\n",
    "num=int(input(\"please enter a number : \"))\n",
    "fact=1\n",
    "for i in range(1,num+1):\n",
    "    fact=fact*i\n",
    "print(\"factorial of {0} is {1}\".format(num,fact))\n",
    "    "
   ]
  },
  {
   "cell_type": "code",
   "execution_count": 2,
   "metadata": {},
   "outputs": [
    {
     "name": "stdout",
     "output_type": "stream",
     "text": [
      "please enter a number : 5\n",
      "the multiplication table upto 5 is given below:\n",
      "1  x  1  =  1\n",
      "1  x  2  =  2\n",
      "1  x  3  =  3\n",
      "1  x  4  =  4\n",
      "1  x  5  =  5\n",
      "1  x  6  =  6\n",
      "1  x  7  =  7\n",
      "1  x  8  =  8\n",
      "1  x  9  =  9\n",
      "1  x  10  =  10\n",
      "2  x  1  =  2\n",
      "2  x  2  =  4\n",
      "2  x  3  =  6\n",
      "2  x  4  =  8\n",
      "2  x  5  =  10\n",
      "2  x  6  =  12\n",
      "2  x  7  =  14\n",
      "2  x  8  =  16\n",
      "2  x  9  =  18\n",
      "2  x  10  =  20\n",
      "3  x  1  =  3\n",
      "3  x  2  =  6\n",
      "3  x  3  =  9\n",
      "3  x  4  =  12\n",
      "3  x  5  =  15\n",
      "3  x  6  =  18\n",
      "3  x  7  =  21\n",
      "3  x  8  =  24\n",
      "3  x  9  =  27\n",
      "3  x  10  =  30\n",
      "4  x  1  =  4\n",
      "4  x  2  =  8\n",
      "4  x  3  =  12\n",
      "4  x  4  =  16\n",
      "4  x  5  =  20\n",
      "4  x  6  =  24\n",
      "4  x  7  =  28\n",
      "4  x  8  =  32\n",
      "4  x  9  =  36\n",
      "4  x  10  =  40\n",
      "5  x  1  =  5\n",
      "5  x  2  =  10\n",
      "5  x  3  =  15\n",
      "5  x  4  =  20\n",
      "5  x  5  =  25\n",
      "5  x  6  =  30\n",
      "5  x  7  =  35\n",
      "5  x  8  =  40\n",
      "5  x  9  =  45\n",
      "5  x  10  =  50\n"
     ]
    }
   ],
   "source": [
    "# Answer 2)\n",
    "num = int(input(\"please enter a number : \"))\n",
    "print(\"the multiplication table upto {} is given below:\".format(num))\n",
    "for i in range(1,num+1):\n",
    "    for j in range(1,11):\n",
    "        print(i,\" x \",j,\" = \",i*j)"
   ]
  },
  {
   "cell_type": "code",
   "execution_count": 10,
   "metadata": {},
   "outputs": [
    {
     "name": "stdout",
     "output_type": "stream",
     "text": [
      "please enter a number : 7\n",
      "the fibonacci series upto 7th term, is given below :\n",
      "0\n",
      "1\n",
      "1\n",
      "2\n",
      "3\n",
      "5\n",
      "8\n"
     ]
    }
   ],
   "source": [
    "# Answer 3)\n",
    "num = int(input(\"please enter a number : \"))\n",
    "n1=0\n",
    "n2=1\n",
    "print(\"the fibonacci series upto {}th term, is given below :\".format(num))\n",
    "for i in range(1,num+1):\n",
    "    print(n1)\n",
    "    nth=n1+n2\n",
    "    n1=n2    \n",
    "    n2=nth\n",
    "    "
   ]
  },
  {
   "cell_type": "code",
   "execution_count": 34,
   "metadata": {},
   "outputs": [
    {
     "name": "stdout",
     "output_type": "stream",
     "text": [
      "please enter a number : 153\n",
      "Armstrong number\n"
     ]
    }
   ],
   "source": [
    "#Answer 4)\n",
    "num = int(input(\"please enter a number : \"))\n",
    "temp=num\n",
    "sum1=0\n",
    "while (temp>0):\n",
    "    sum1=sum1+(temp%10)**3\n",
    "    temp=temp//10\n",
    "if(sum1==num):\n",
    "    print(\"Armstrong number\")\n",
    "else:print(\"not Armstrong number\")\n",
    "    "
   ]
  },
  {
   "cell_type": "code",
   "execution_count": 37,
   "metadata": {},
   "outputs": [
    {
     "name": "stdout",
     "output_type": "stream",
     "text": [
      "please enter 1st number of interval: 100\n",
      "please enter 2nd number of interval: 1000\n",
      "the armstrong numbers for the given interval is given below : \n",
      "153\n",
      "370\n",
      "371\n",
      "407\n"
     ]
    }
   ],
   "source": [
    "# Answer 5)\n",
    "num1 = int(input(\"please enter 1st number of interval: \"))\n",
    "num2 = int(input(\"please enter 2nd number of interval: \"))\n",
    "print(\"the armstrong numbers for the given interval is given below : \")\n",
    "for i in range(num1,num2+1):\n",
    "    temp=i\n",
    "    sum1=0\n",
    "    while (temp>0):\n",
    "        sum1=sum1+(temp%10)**3\n",
    "        temp=temp//10\n",
    "    if(sum1==i):\n",
    "        print(i)"
   ]
  },
  {
   "cell_type": "code",
   "execution_count": 40,
   "metadata": {},
   "outputs": [
    {
     "name": "stdout",
     "output_type": "stream",
     "text": [
      "please enter a number : 5\n",
      "The sum of natural numbers is 15\n"
     ]
    }
   ],
   "source": [
    "#Answer 6)\n",
    "num = int(input(\"please enter a number : \"))\n",
    "sum1 = 0\n",
    "while(num > 0):\n",
    "    sum1 = sum1 + num\n",
    "    num -= 1\n",
    "print(\"The sum of natural numbers is\", sum1)"
   ]
  },
  {
   "cell_type": "code",
   "execution_count": null,
   "metadata": {},
   "outputs": [],
   "source": []
  }
 ],
 "metadata": {
  "kernelspec": {
   "display_name": "Python 3",
   "language": "python",
   "name": "python3"
  },
  "language_info": {
   "codemirror_mode": {
    "name": "ipython",
    "version": 3
   },
   "file_extension": ".py",
   "mimetype": "text/x-python",
   "name": "python",
   "nbconvert_exporter": "python",
   "pygments_lexer": "ipython3",
   "version": "3.7.4"
  }
 },
 "nbformat": 4,
 "nbformat_minor": 2
}
