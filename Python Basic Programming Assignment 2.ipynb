{
 "cells": [
  {
   "cell_type": "code",
   "execution_count": 2,
   "metadata": {},
   "outputs": [
    {
     "name": "stdout",
     "output_type": "stream",
     "text": [
      "Enter value in kilometres :100\n",
      "value in miles =  62.1  miles\n"
     ]
    }
   ],
   "source": [
    "# Answer 1)\n",
    "# 1km = 0.621 miles, therefore\n",
    "x=int(input(\"Enter value in kilometres :\"))\n",
    "print(\"value in miles = \",(x*0.621),\"miles\")"
   ]
  },
  {
   "cell_type": "code",
   "execution_count": 3,
   "metadata": {},
   "outputs": [
    {
     "name": "stdout",
     "output_type": "stream",
     "text": [
      "please enter value in celsius : 20\n",
      "Farenheit =  68.0\n"
     ]
    }
   ],
   "source": [
    "#Answer 2)\n",
    "#To convert temperatures in degrees Celsius to Fahrenheit, multiply by 1.8 (or 9/5) and add 32.\n",
    "C=int(input(\"please enter value in celsius : \"))\n",
    "Fa=(C*9/5)+32\n",
    "print(\"Farenheit = \",Fa)\n"
   ]
  },
  {
   "cell_type": "code",
   "execution_count": 4,
   "metadata": {},
   "outputs": [
    {
     "name": "stdout",
     "output_type": "stream",
     "text": [
      "     March 2021\n",
      "Mo Tu We Th Fr Sa Su\n",
      " 1  2  3  4  5  6  7\n",
      " 8  9 10 11 12 13 14\n",
      "15 16 17 18 19 20 21\n",
      "22 23 24 25 26 27 28\n",
      "29 30 31\n",
      "\n"
     ]
    }
   ],
   "source": [
    "#Answer 3)\n",
    "\n",
    "import calendar\n",
    "yy = 2021  \n",
    "mm = 3 \n",
    "print(calendar.month(yy, mm))"
   ]
  },
  {
   "cell_type": "code",
   "execution_count": 5,
   "metadata": {},
   "outputs": [
    {
     "name": "stdout",
     "output_type": "stream",
     "text": [
      " enter value of a: 4\n",
      " enter value of b: 6\n",
      " enter value of c: 9\n",
      "The solution are (-0.75-1.299038105676658j) and (-0.75+1.299038105676658j)\n"
     ]
    }
   ],
   "source": [
    "#Answer 4)\n",
    "#solution for quadratic equation ax**2 + bx + c = 0\n",
    "\n",
    "import cmath\n",
    "\n",
    "a = int(input(\" enter value of a: \"))\n",
    "b = int(input(\" enter value of b: \"))\n",
    "c = int(input(\" enter value of c: \"))\n",
    "\n",
    "# calculate the discriminant\n",
    "d = (b**2) - (4*a*c)\n",
    "\n",
    "# find two solutions\n",
    "sol1 = (-b-cmath.sqrt(d))/(2*a)\n",
    "sol2 = (-b+cmath.sqrt(d))/(2*a)\n",
    "\n",
    "print('The solution are {0} and {1}'.format(sol1,sol2))"
   ]
  },
  {
   "cell_type": "code",
   "execution_count": 6,
   "metadata": {},
   "outputs": [
    {
     "name": "stdout",
     "output_type": "stream",
     "text": [
      " enter value of x: 10\n",
      " enter value of y: 20\n",
      "After Swapping: x = 20  y = 10\n"
     ]
    }
   ],
   "source": [
    "#Answer 5)\n",
    "x = int(input(\" enter value of x: \"))\n",
    "y = int(input(\" enter value of y: \"))\n",
    "x = x + y\n",
    "y = x - y\n",
    "x = x - y\n",
    "print(\"After Swapping: x =\", x, \" y =\", y)"
   ]
  },
  {
   "cell_type": "code",
   "execution_count": null,
   "metadata": {},
   "outputs": [],
   "source": []
  }
 ],
 "metadata": {
  "kernelspec": {
   "display_name": "Python 3",
   "language": "python",
   "name": "python3"
  },
  "language_info": {
   "codemirror_mode": {
    "name": "ipython",
    "version": 3
   },
   "file_extension": ".py",
   "mimetype": "text/x-python",
   "name": "python",
   "nbconvert_exporter": "python",
   "pygments_lexer": "ipython3",
   "version": "3.7.4"
  }
 },
 "nbformat": 4,
 "nbformat_minor": 2
}
