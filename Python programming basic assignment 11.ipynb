{
 "cells": [
  {
   "cell_type": "code",
   "execution_count": 2,
   "metadata": {},
   "outputs": [
    {
     "name": "stdout",
     "output_type": "stream",
     "text": [
      "enter the value of k :3\n",
      "hello\n",
      "guys\n",
      "this\n",
      "11th\n",
      "assignment\n"
     ]
    }
   ],
   "source": [
    "# Answer 1): printing the all words length greater than k\n",
    "sent=\"hello guys this is the 11th assignment\"\n",
    "k=int(input(\"enter the value of k :\"))\n",
    "list1=sent.split(\" \")\n",
    "for i in list1:\n",
    "    if(len(i)>k):\n",
    "        print(i)"
   ]
  },
  {
   "cell_type": "code",
   "execution_count": 7,
   "metadata": {},
   "outputs": [
    {
     "name": "stdout",
     "output_type": "stream",
     "text": [
      "enter the value of i :6\n",
      "hello uys this is the 11th assignment\n"
     ]
    }
   ],
   "source": [
    "# Answer 2): removing the i'th element from a string\n",
    "sent=\"hello guys this is the 11th assignment\"\n",
    "i=int(input(\"enter the value of i :\"))\n",
    "newsent=sent.replace(sent[i],\"\",1)\n",
    "print(newsent)    "
   ]
  },
  {
   "cell_type": "code",
   "execution_count": 11,
   "metadata": {},
   "outputs": [
    {
     "name": "stdout",
     "output_type": "stream",
     "text": [
      "list after using split : \n",
      " ['hello', 'guys', 'this', 'is', 'the', '11th', 'assignment']\n",
      "string after join : \n",
      " hello#guys#this#is#the#11th#assignment\n"
     ]
    }
   ],
   "source": [
    "# Answer 3): program to use split and join for a string\n",
    "sent=\"hello guys this is the 11th assignment\"\n",
    "newsent=sent.split(\" \")\n",
    "print(\"list after using split : \\n\",newsent)\n",
    "print(\"string after join : \\n\",\"#\".join(newsent))"
   ]
  },
  {
   "cell_type": "code",
   "execution_count": 12,
   "metadata": {},
   "outputs": [
    {
     "name": "stdout",
     "output_type": "stream",
     "text": [
      "Yes it binary\n"
     ]
    }
   ],
   "source": [
    "# Answer 4): to check if given string is binary\n",
    "def check(string) :\n",
    "    p = set(string)\n",
    "    s = {'0', '1'}\n",
    "    if s == p or p == {'0'} or p == {'1'}:\n",
    "        print(\"Yes it binary\")\n",
    "    else :\n",
    "        print(\"No it is not binary\")\n",
    "  \n",
    "string1 = \"101010000111\"\n",
    "check(string1)\n"
   ]
  },
  {
   "cell_type": "code",
   "execution_count": 14,
   "metadata": {},
   "outputs": [
    {
     "name": "stdout",
     "output_type": "stream",
     "text": [
      "the uncommon words in both sentences are:  ['the', '11th', 'assignment', 'an', 'apple']\n"
     ]
    }
   ],
   "source": [
    "# Answer 5): to check for uncommon words from 2 strings\n",
    "def check(str1,str2):\n",
    "    list1=str1.split(\" \")\n",
    "    list2=str2.split(\" \")\n",
    "    list3=[]\n",
    "    for i in (list1+list2):\n",
    "        if(i in list1 and i in list2):\n",
    "            continue\n",
    "        else:\n",
    "            list3.append(i)\n",
    "    return(list3)\n",
    "str1=(\"this is the 11th assignment\")\n",
    "str2=(\"this is an apple\")\n",
    "print(\"the uncommon words in both sentences are: \",check(str1,str2))\n",
    "        "
   ]
  },
  {
   "cell_type": "code",
   "execution_count": 22,
   "metadata": {},
   "outputs": [
    {
     "name": "stdout",
     "output_type": "stream",
     "text": [
      "All the duplicate characters in the string are :  ['e', 'l', ' ', 't', 'h', 'i', 's', '1', 'n']\n"
     ]
    }
   ],
   "source": [
    "# Answer 6):\n",
    "str1=\"Hello this is the 11th assignment\"\n",
    "dup=[]\n",
    "for char in str1:\n",
    "    if (str1.count(char) >1 and (char not in dup)):\n",
    "        dup.append(char)\n",
    "print(\"All the duplicate characters in the string are : \",dup)        \n",
    "        \n",
    "        "
   ]
  },
  {
   "cell_type": "code",
   "execution_count": 26,
   "metadata": {},
   "outputs": [
    {
     "name": "stdout",
     "output_type": "stream",
     "text": [
      "please enter string : %$#@hello\n",
      "the string has special characters\n"
     ]
    }
   ],
   "source": [
    "# Answer 7):\n",
    "str1=input('please enter string : ')\n",
    "for char in str1:\n",
    "    if not char.isalnum():\n",
    "        flag=0\n",
    "        break\n",
    "    else:\n",
    "        flag=1\n",
    "if flag==0:\n",
    "    print(\"the string has special characters\")\n",
    "else:\n",
    "    print(\"string has no special characters\")\n",
    "        "
   ]
  },
  {
   "cell_type": "code",
   "execution_count": null,
   "metadata": {},
   "outputs": [],
   "source": []
  }
 ],
 "metadata": {
  "kernelspec": {
   "display_name": "Python 3",
   "language": "python",
   "name": "python3"
  },
  "language_info": {
   "codemirror_mode": {
    "name": "ipython",
    "version": 3
   },
   "file_extension": ".py",
   "mimetype": "text/x-python",
   "name": "python",
   "nbconvert_exporter": "python",
   "pygments_lexer": "ipython3",
   "version": "3.7.4"
  }
 },
 "nbformat": 4,
 "nbformat_minor": 2
}
