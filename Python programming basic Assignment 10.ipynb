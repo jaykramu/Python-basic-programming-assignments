{
 "cells": [
  {
   "cell_type": "code",
   "execution_count": 1,
   "metadata": {},
   "outputs": [
    {
     "name": "stdout",
     "output_type": "stream",
     "text": [
      "Sum of all elements in given list:  74\n"
     ]
    }
   ],
   "source": [
    "# Answer 1):\n",
    "\n",
    "list1 = [11, 5, 17, 18, 23]\n",
    "total = sum(list1) \n",
    "print(\"Sum of all elements in given list: \", total)"
   ]
  },
  {
   "cell_type": "code",
   "execution_count": 2,
   "metadata": {},
   "outputs": [
    {
     "name": "stdout",
     "output_type": "stream",
     "text": [
      "product of all elements =  387090\n"
     ]
    }
   ],
   "source": [
    "# Answer 2):\n",
    "\n",
    "list1 = [11, 5, 17, 18, 23]\n",
    "mult=1\n",
    "for i in list1:\n",
    "    mult=mult*i\n",
    "print(\"product of all elements = \", mult)    \n",
    "    "
   ]
  },
  {
   "cell_type": "code",
   "execution_count": 4,
   "metadata": {},
   "outputs": [
    {
     "name": "stdout",
     "output_type": "stream",
     "text": [
      "Smallest of all elements in given list:  5\n"
     ]
    }
   ],
   "source": [
    "# Answer 3):\n",
    "\n",
    "list1 = [11, 5, 17, 18, 23]\n",
    "smallest = min(list1) \n",
    "print(\"Smallest of all elements in given list: \", smallest)"
   ]
  },
  {
   "cell_type": "code",
   "execution_count": 5,
   "metadata": {},
   "outputs": [
    {
     "name": "stdout",
     "output_type": "stream",
     "text": [
      "largest of all elements in given list:  23\n"
     ]
    }
   ],
   "source": [
    "# Answer 4):\n",
    "\n",
    "list1 = [11, 5, 17, 18, 23]\n",
    "largest = max(list1) \n",
    "print(\"largest of all elements in given list: \", largest)"
   ]
  },
  {
   "cell_type": "code",
   "execution_count": 6,
   "metadata": {},
   "outputs": [
    {
     "name": "stdout",
     "output_type": "stream",
     "text": [
      "Second largest element is: 45\n"
     ]
    }
   ],
   "source": [
    "# Answer 5):\n",
    "\n",
    "list1 = [10, 20, 4, 45, 99]\n",
    "list1.sort()\n",
    "print(\"Second largest element is:\", list1[-2])"
   ]
  },
  {
   "cell_type": "code",
   "execution_count": 10,
   "metadata": {},
   "outputs": [
    {
     "name": "stdout",
     "output_type": "stream",
     "text": [
      "enter n position: 3\n",
      "N largest elements are: [20, 45, 99]\n"
     ]
    }
   ],
   "source": [
    "# Answer 6):\n",
    "\n",
    "list1 = [10, 20, 4, 45, 99]\n",
    "list1.sort()\n",
    "n=int(input(\"enter n position: \"))\n",
    "print(\"N largest elements are:\", list1[-n:])\n"
   ]
  },
  {
   "cell_type": "code",
   "execution_count": 2,
   "metadata": {},
   "outputs": [
    {
     "name": "stdout",
     "output_type": "stream",
     "text": [
      "even numbers in the list are : \n",
      "18\n",
      "6\n",
      "898\n",
      "90\n"
     ]
    }
   ],
   "source": [
    "# Answer 7):\n",
    "\n",
    "list1 = [11, 5, 17, 18, 23,6,898,75,45,90]\n",
    "print(\"even numbers in the list are : \")  \n",
    "for i in list1:\n",
    "    if (i%2==0):\n",
    "        print(i)  "
   ]
  },
  {
   "cell_type": "code",
   "execution_count": 3,
   "metadata": {},
   "outputs": [
    {
     "name": "stdout",
     "output_type": "stream",
     "text": [
      "odd numbers in the list are : \n",
      "11\n",
      "5\n",
      "17\n",
      "23\n",
      "75\n",
      "45\n"
     ]
    }
   ],
   "source": [
    "# Answer 8):\n",
    "\n",
    "list1 = [11, 5, 17, 18, 23,6,898,75,45,90]\n",
    "print(\"odd numbers in the list are : \")  \n",
    "for i in list1:\n",
    "    if (i%2!=0):\n",
    "        print(i)  "
   ]
  },
  {
   "cell_type": "code",
   "execution_count": 7,
   "metadata": {},
   "outputs": [
    {
     "name": "stdout",
     "output_type": "stream",
     "text": [
      "list without empty list is given below : \n",
      "[11, 5, 17, 18, 23, 6, 898, 75, 45, 90]\n"
     ]
    }
   ],
   "source": [
    "# Answer 9):\n",
    "list1 = [11,5,[],17,18,23,[],6,898,[],75,45,90]\n",
    "print(\"list without empty list is given below : \")\n",
    "newlist=[]\n",
    "for i in list1:\n",
    "    if (i!=[]):\n",
    "        newlist.append(i)\n",
    "print(newlist)     \n",
    "        "
   ]
  },
  {
   "cell_type": "code",
   "execution_count": 8,
   "metadata": {},
   "outputs": [
    {
     "name": "stdout",
     "output_type": "stream",
     "text": [
      "Original List: [4, 8, 2, 10, 15, 18]\n",
      "After Cloning: [4, 8, 2, 10, 15, 18]\n"
     ]
    }
   ],
   "source": [
    "# Answer 10):\n",
    "\n",
    "def Cloning(li1):\n",
    "    li_copy =[]\n",
    "    li_copy = li1.copy()\n",
    "    return li_copy\n",
    "\n",
    "li1 = [4, 8, 2, 10, 15, 18]\n",
    "li2 = Cloning(li1)\n",
    "print(\"Original List:\", li1)\n",
    "print(\"After Cloning:\", li2)"
   ]
  },
  {
   "cell_type": "code",
   "execution_count": 9,
   "metadata": {},
   "outputs": [
    {
     "name": "stdout",
     "output_type": "stream",
     "text": [
      "enter number to check for occurences:3\n",
      "3 has occurred 4 times in the list.\n"
     ]
    }
   ],
   "source": [
    "# Answer 11):\n",
    "\n",
    "list1=[1,2,2,3,3,3,4,5,5,5,2,3]\n",
    "num=int(input(\"enter number to check for occurences:\"))\n",
    "print(\"{} has occurred {} times in the list.\".format(num,list1.count(num)))"
   ]
  },
  {
   "cell_type": "code",
   "execution_count": null,
   "metadata": {},
   "outputs": [],
   "source": []
  }
 ],
 "metadata": {
  "kernelspec": {
   "display_name": "Python 3",
   "language": "python",
   "name": "python3"
  },
  "language_info": {
   "codemirror_mode": {
    "name": "ipython",
    "version": 3
   },
   "file_extension": ".py",
   "mimetype": "text/x-python",
   "name": "python",
   "nbconvert_exporter": "python",
   "pygments_lexer": "ipython3",
   "version": "3.7.4"
  }
 },
 "nbformat": 4,
 "nbformat_minor": 2
}
