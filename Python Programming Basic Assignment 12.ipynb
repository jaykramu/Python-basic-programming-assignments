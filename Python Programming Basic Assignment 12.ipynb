{
 "cells": [
  {
   "cell_type": "code",
   "execution_count": 4,
   "metadata": {},
   "outputs": [
    {
     "name": "stdout",
     "output_type": "stream",
     "text": [
      "{'music', 'movies', 'sports', 'news'}\n"
     ]
    }
   ],
   "source": [
    "# Answer 1): program to extract unique values in a dictionary\n",
    "lis = [{\"abc\":\"movies\"}, {\"abc\": \"sports\"}, {\"abc\": \"music\"}, {\"xyz\": \"music\"}, {\"pqr\":\"music\"}, {\"pqr\":\"movies\"},{\"pqr\":\"sports\"}, {\"pqr\":\"news\"}, {\"pqr\":\"sports\"}]\n",
    "s = set()\n",
    "for dic in lis:\n",
    "   for val in dic.values():\n",
    "      s.add(val)\n",
    "print(s) \n",
    "        "
   ]
  },
  {
   "cell_type": "code",
   "execution_count": 5,
   "metadata": {},
   "outputs": [
    {
     "name": "stdout",
     "output_type": "stream",
     "text": [
      "Sum : 600\n"
     ]
    }
   ],
   "source": [
    "# Answer 2): Program to find sum of all items in a Dictionary\n",
    "\n",
    "def returnSum(dict):\n",
    "     sum = 0\n",
    "     for i in dict.values():\n",
    "           sum = sum + i     \n",
    "     return sum\n",
    "\n",
    "dict = {'a': 100, 'b':200, 'c':300}\n",
    "print(\"Sum :\", returnSum(dict))"
   ]
  },
  {
   "cell_type": "code",
   "execution_count": 2,
   "metadata": {},
   "outputs": [
    {
     "name": "stdout",
     "output_type": "stream",
     "text": [
      "{'d': 6, 'c': 4, 'a': 10, 'b': 8}\n"
     ]
    }
   ],
   "source": [
    "# Answer 3): program to merge 2 dictionaries\n",
    "def Merge(dict1, dict2):\n",
    "    return(dict2.update(dict1))\n",
    "\n",
    "dict1 = {'a': 10, 'b': 8}\n",
    "dict2 = {'d': 6, 'c': 4}\n",
    " \n",
    "Merge(dict1, dict2)\n",
    " \n",
    "print(dict2)"
   ]
  },
  {
   "cell_type": "code",
   "execution_count": 3,
   "metadata": {},
   "outputs": [
    {
     "name": "stdout",
     "output_type": "stream",
     "text": [
      "The original dictionary is : {'month': [1, 2, 3], 'name': ['Jan', 'Feb', 'March']}\n",
      "Flattened dictionary : {1: 'Jan', 2: 'Feb', 3: 'March'}\n"
     ]
    }
   ],
   "source": [
    "# answer 4): program to convert key value list to flat dictionary\n",
    "\n",
    "test_dict = {'month' : [1, 2, 3],\n",
    "             'name' : ['Jan', 'Feb', 'March']}\n",
    "\n",
    "print(\"The original dictionary is : \" + str(test_dict))\n",
    "res = dict(zip(test_dict['month'], test_dict['name']))\n",
    "print(\"Flattened dictionary : \" + str(res)) "
   ]
  },
  {
   "cell_type": "code",
   "execution_count": 6,
   "metadata": {},
   "outputs": [
    {
     "name": "stdout",
     "output_type": "stream",
     "text": [
      "Resultant Dictionary : OrderedDict([('Ramu', '3'), ('Hello', '1'), ('World', '2')])\n"
     ]
    }
   ],
   "source": [
    "# Answer 5):program to insertion at the beginning in OrderedDict \n",
    "from collections import OrderedDict\n",
    "iniordered_dict = OrderedDict([('Hello', '1'), ('World', '2')])\n",
    "\n",
    "iniordered_dict.update({'Ramu':'3'})\n",
    "iniordered_dict.move_to_end('Ramu', last = False)\n",
    "\n",
    "print (\"Resultant Dictionary : \"+str(iniordered_dict))"
   ]
  },
  {
   "cell_type": "code",
   "execution_count": 8,
   "metadata": {},
   "outputs": [
    {
     "name": "stdout",
     "output_type": "stream",
     "text": [
      "true\n"
     ]
    }
   ],
   "source": [
    "# Answer 6): program to check order of character in string using OrderedDict()\n",
    "\n",
    "from collections import OrderedDict \n",
    "  \n",
    "def checkOrder(input, pattern): \n",
    "    dict = OrderedDict.fromkeys(input) \n",
    "    ptrlen = 0\n",
    "    for key,value in dict.items(): \n",
    "        if (key == pattern[ptrlen]): \n",
    "            ptrlen = ptrlen + 1\n",
    "          \n",
    "        if (ptrlen == (len(pattern))): \n",
    "            return 'true'\n",
    "\n",
    "    return 'false'\n",
    "\n",
    "input = 'engineers rock'\n",
    "pattern = 'egr'\n",
    "print (checkOrder(input,pattern)) "
   ]
  },
  {
   "cell_type": "code",
   "execution_count": 17,
   "metadata": {},
   "outputs": [
    {
     "name": "stdout",
     "output_type": "stream",
     "text": [
      "Sorted Keys are : \n",
      "1 2 3 4 5 6 \n",
      "Sorted Values are : \n",
      "2 12 18 24 56 323 "
     ]
    }
   ],
   "source": [
    "# Answer 7):program to sort Python Dictionaries by Key or Value\n",
    "\n",
    "key_value ={}    \n",
    "key_value[2] = 56       \n",
    "key_value[1] = 2 \n",
    "key_value[5] = 12 \n",
    "key_value[4] = 24\n",
    "key_value[6] = 18      \n",
    "key_value[3] = 323 \n",
    "\n",
    "print (\"Sorted Keys are : \")  \n",
    "for i in sorted (key_value.keys()) : \n",
    "    print(i, end = \" \")\n",
    "print(\"\\nSorted Values are : \")    \n",
    "for i in sorted (key_value.values()) : \n",
    "    print(i, end = \" \") \n",
    "\n",
    "            \n",
    "      "
   ]
  },
  {
   "cell_type": "code",
   "execution_count": null,
   "metadata": {},
   "outputs": [],
   "source": []
  }
 ],
 "metadata": {
  "kernelspec": {
   "display_name": "Python 3",
   "language": "python",
   "name": "python3"
  },
  "language_info": {
   "codemirror_mode": {
    "name": "ipython",
    "version": 3
   },
   "file_extension": ".py",
   "mimetype": "text/x-python",
   "name": "python",
   "nbconvert_exporter": "python",
   "pygments_lexer": "ipython3",
   "version": "3.7.4"
  }
 },
 "nbformat": 4,
 "nbformat_minor": 2
}
