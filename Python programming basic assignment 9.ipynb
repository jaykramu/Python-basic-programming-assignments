{
 "cells": [
  {
   "cell_type": "code",
   "execution_count": 12,
   "metadata": {},
   "outputs": [
    {
     "name": "stdout",
     "output_type": "stream",
     "text": [
      "please enter number : 175\n",
      "number is disarium\n"
     ]
    }
   ],
   "source": [
    "# Answer 1)\n",
    "num=input(\"please enter number : \")\n",
    "dis=0\n",
    "n=len(num)\n",
    "temp=int (num)\n",
    "while(n>=1):\n",
    "    r=temp%10\n",
    "    dis=dis+(r)**n\n",
    "    temp=temp//10\n",
    "    n=n-1\n",
    "if (dis==int(num)):\n",
    "    print(\"number is disarium\")\n",
    "else:print(\"number is not disarium\")    "
   ]
  },
  {
   "cell_type": "code",
   "execution_count": 2,
   "metadata": {},
   "outputs": [
    {
     "name": "stdout",
     "output_type": "stream",
     "text": [
      "1\n",
      "2\n",
      "3\n",
      "4\n",
      "5\n",
      "6\n",
      "7\n",
      "8\n",
      "9\n",
      "89\n"
     ]
    }
   ],
   "source": [
    "# Answer 2):\n",
    "\n",
    "for i in range(1,100):\n",
    "    dis=0\n",
    "    n=len(str(i))\n",
    "    temp=i\n",
    "    while(n>=1):\n",
    "        r=temp%10\n",
    "        dis=dis+(r)**n\n",
    "        temp=temp//10\n",
    "        n=n-1\n",
    "    if (dis==i):\n",
    "        print(i)\n",
    "     "
   ]
  },
  {
   "cell_type": "code",
   "execution_count": 1,
   "metadata": {},
   "outputs": [
    {
     "name": "stdout",
     "output_type": "stream",
     "text": [
      "please enter a number : 135\n",
      "135 is not a happy number\n"
     ]
    }
   ],
   "source": [
    "# Answer 3):\n",
    "\n",
    "def isHappyNumber(num):    \n",
    "    rem = sum = 0   \n",
    "   \n",
    "    while(num > 0):    \n",
    "        rem = num%10    \n",
    "        sum = sum + (rem*rem);    \n",
    "        num = num//10    \n",
    "    return sum;    \n",
    "num = int(input(\"please enter a number : \"))    \n",
    "result = num    \n",
    "while(result != 1 and result != 4):    \n",
    "    result = isHappyNumber(result)    \n",
    "   \n",
    "if(result == 1):    \n",
    "    print(str(num) + \" is a happy number\");    \n",
    "    \n",
    "elif(result == 4):    \n",
    "    print(str(num) + \" is not a happy number\");   "
   ]
  },
  {
   "cell_type": "code",
   "execution_count": 7,
   "metadata": {},
   "outputs": [
    {
     "name": "stdout",
     "output_type": "stream",
     "text": [
      "List of happy numbers between 1 and 100: \n",
      "7\n",
      "10\n",
      "13\n",
      "19\n",
      "23\n",
      "28\n",
      "31\n",
      "32\n",
      "44\n",
      "49\n",
      "68\n",
      "70\n",
      "79\n",
      "82\n",
      "86\n",
      "91\n",
      "94\n",
      "97\n",
      "100\n"
     ]
    }
   ],
   "source": [
    "# Answer 4):\n",
    "def isHappyNumber(num):    \n",
    "    rem = sum = 0      \n",
    "    while(num > 0):    \n",
    "        rem = num%10    \n",
    "        sum = sum + (rem*rem)    \n",
    "        num = num//10    \n",
    "    return sum        \n",
    "print(\"List of happy numbers between 1 and 100: \")    \n",
    "for i in range(1, 101):    \n",
    "    result = i;    \n",
    "    while(result != 1 and result != 4):    \n",
    "        result = isHappyNumber(result);    \n",
    "        if(result == 1):    \n",
    "            print(i)    "
   ]
  },
  {
   "cell_type": "code",
   "execution_count": 8,
   "metadata": {},
   "outputs": [
    {
     "name": "stdout",
     "output_type": "stream",
     "text": [
      "please enter a number : 18\n",
      "Yes it is a harshad number\n"
     ]
    }
   ],
   "source": [
    "# Answer 5):\n",
    "def checkHarshad( n ) :\n",
    "    sum = 0\n",
    "    temp = n\n",
    "    while temp > 0 :\n",
    "        sum = sum + temp % 10\n",
    "        temp = temp // 10\n",
    "    return n % sum == 0\n",
    "num=int(input(\"please enter a number : \"))\n",
    "if(checkHarshad(num)) : print(\"Yes it is a harshad number\")\n",
    "else : print (\"No it is ot a harshad number\")"
   ]
  },
  {
   "cell_type": "code",
   "execution_count": 2,
   "metadata": {},
   "outputs": [
    {
     "name": "stdout",
     "output_type": "stream",
     "text": [
      "pronic numbers from 1 to 100 :\n",
      "2\n",
      "6\n",
      "12\n",
      "20\n",
      "30\n",
      "42\n",
      "56\n",
      "72\n",
      "90\n"
     ]
    }
   ],
   "source": [
    "# Answer 6):\n",
    "print(\"pronic numbers from 1 to 100 :\")\n",
    "for i in range(1,101):\n",
    "    for j in range(1,i):\n",
    "        if (j*(j+1))==i:\n",
    "            print(i)\n",
    "            "
   ]
  },
  {
   "cell_type": "code",
   "execution_count": null,
   "metadata": {},
   "outputs": [],
   "source": []
  }
 ],
 "metadata": {
  "kernelspec": {
   "display_name": "Python 3",
   "language": "python",
   "name": "python3"
  },
  "language_info": {
   "codemirror_mode": {
    "name": "ipython",
    "version": 3
   },
   "file_extension": ".py",
   "mimetype": "text/x-python",
   "name": "python",
   "nbconvert_exporter": "python",
   "pygments_lexer": "ipython3",
   "version": "3.7.4"
  }
 },
 "nbformat": 4,
 "nbformat_minor": 2
}
