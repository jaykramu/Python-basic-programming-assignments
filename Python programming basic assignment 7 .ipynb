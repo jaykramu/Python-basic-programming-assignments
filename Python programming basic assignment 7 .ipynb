{
 "cells": [
  {
   "cell_type": "code",
   "execution_count": 2,
   "metadata": {},
   "outputs": [
    {
     "name": "stdout",
     "output_type": "stream",
     "text": [
      "enter values of array , (type 'quit' to exit):1\n",
      "enter values of array , (type 'quit' to exit):2\n",
      "enter values of array , (type 'quit' to exit):3\n",
      "enter values of array , (type 'quit' to exit):4\n",
      "enter values of array , (type 'quit' to exit):5\n",
      "enter values of array , (type 'quit' to exit):quit\n",
      "Sum of the values is :  15\n"
     ]
    }
   ],
   "source": [
    "# Answer 1):\n",
    "arr=[]\n",
    "while(True):\n",
    "    val=input(\"enter values of array , (type 'quit' to exit):\") \n",
    "    if (val==\"quit\"):\n",
    "        break\n",
    "    else:arr.append(int(val))    \n",
    "print(\"Sum of the values is : \", sum(arr))        "
   ]
  },
  {
   "cell_type": "code",
   "execution_count": 4,
   "metadata": {},
   "outputs": [
    {
     "name": "stdout",
     "output_type": "stream",
     "text": [
      "enter values of array , (type 'quit' to exit):1\n",
      "enter values of array , (type 'quit' to exit):2\n",
      "enter values of array , (type 'quit' to exit):3\n",
      "enter values of array , (type 'quit' to exit):4\n",
      "enter values of array , (type 'quit' to exit):5\n",
      "enter values of array , (type 'quit' to exit):6\n",
      "enter values of array , (type 'quit' to exit):quit\n",
      "Largest in given array is 6\n"
     ]
    }
   ],
   "source": [
    "# Answer 2):\n",
    "arr=[]\n",
    "while(True):\n",
    "    val=input(\"enter values of array , (type 'quit' to exit):\") \n",
    "    if (val==\"quit\"):\n",
    "        break\n",
    "    else:arr.append(int(val))\n",
    "\n",
    "def largest(arr,n):\n",
    "    max = arr[0]\n",
    "    for i in range(1, n):\n",
    "        if arr[i] > max:\n",
    "            max = arr[i]\n",
    "    return max\n",
    "\n",
    "n = len(arr)\n",
    "Ans = largest(arr,n)\n",
    "print (\"Largest in given array is\",Ans)\n",
    "        "
   ]
  },
  {
   "cell_type": "code",
   "execution_count": 8,
   "metadata": {},
   "outputs": [
    {
     "name": "stdout",
     "output_type": "stream",
     "text": [
      "Array after left rotation is:  [3, 4, 5, 6, 7, 1, 2]\n"
     ]
    }
   ],
   "source": [
    "# Answer 3):\n",
    "\n",
    "def rotateArray(arr, n, d):\n",
    "    temp = []\n",
    "    i = 0\n",
    "    while (i < d):\n",
    "        temp.append(arr[i])\n",
    "        i = i + 1\n",
    "    i = 0\n",
    "    while (d < n):\n",
    "        arr[i] = arr[d]\n",
    "        i = i + 1\n",
    "        d = d + 1\n",
    "    arr[:] = arr[: i] + temp\n",
    "    return arr\n",
    "\n",
    "arr = [1, 2, 3, 4, 5, 6, 7]\n",
    "print(\"Array after left rotation is: \", end=' ')\n",
    "print(rotateArray(arr, len(arr), 2))\n",
    " "
   ]
  },
  {
   "cell_type": "code",
   "execution_count": 9,
   "metadata": {},
   "outputs": [
    {
     "name": "stdout",
     "output_type": "stream",
     "text": [
      "enter the nummber where to split : 3\n",
      " the new list after splitting at 3 is [4, 5, 6, 7, 8, 1, 2, 3]\n"
     ]
    }
   ],
   "source": [
    "# Answer 4):\n",
    "def split(arr,d,n):\n",
    "    arr[:]=arr[d:n]+arr[0:d]\n",
    "    return arr\n",
    "arr=[1,2,3,4,5,6,7,8]\n",
    "d=int(input(\"enter the nummber where to split : \"))\n",
    "n=len(arr)\n",
    "\n",
    "print (\" the new list after splitting at {} is {}\".format(d,split(arr,d,n)))"
   ]
  },
  {
   "cell_type": "code",
   "execution_count": 10,
   "metadata": {},
   "outputs": [
    {
     "name": "stdout",
     "output_type": "stream",
     "text": [
      "True\n"
     ]
    }
   ],
   "source": [
    "# Answer 5):\n",
    "def isMonotonic(A):\n",
    "   return (all(A[i] <= A[i + 1] for i in range(len(A) - 1)) or all(A[i] >= A[i + 1] for i in range(len(A) - 1)))\n",
    "\n",
    "A = [1,2,3,4,7,8]\n",
    "print(isMonotonic(A))"
   ]
  },
  {
   "cell_type": "code",
   "execution_count": null,
   "metadata": {},
   "outputs": [],
   "source": []
  }
 ],
 "metadata": {
  "kernelspec": {
   "display_name": "Python 3",
   "language": "python",
   "name": "python3"
  },
  "language_info": {
   "codemirror_mode": {
    "name": "ipython",
    "version": 3
   },
   "file_extension": ".py",
   "mimetype": "text/x-python",
   "name": "python",
   "nbconvert_exporter": "python",
   "pygments_lexer": "ipython3",
   "version": "3.7.4"
  }
 },
 "nbformat": 4,
 "nbformat_minor": 2
}
